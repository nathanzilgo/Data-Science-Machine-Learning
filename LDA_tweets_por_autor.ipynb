{
  "nbformat": 4,
  "nbformat_minor": 0,
  "metadata": {
    "colab": {
      "name": "LDA tweets por autor",
      "provenance": [],
      "collapsed_sections": [],
      "mount_file_id": "1veJ3VVjb0Y_iLWL4IVhfpjCnyFJGSIq1",
      "authorship_tag": "ABX9TyOjQOptr9c1wjzN1tXvAz6m",
      "include_colab_link": true
    },
    "kernelspec": {
      "name": "python3",
      "display_name": "Python 3"
    }
  },
  "cells": [
    {
      "cell_type": "markdown",
      "metadata": {
        "id": "view-in-github",
        "colab_type": "text"
      },
      "source": [
        "<a href=\"https://colab.research.google.com/github/nathanzilgo/Data-Science-Machine-Learning/blob/master/LDA_tweets_por_autor.ipynb\" target=\"_parent\"><img src=\"https://colab.research.google.com/assets/colab-badge.svg\" alt=\"Open In Colab\"/></a>"
      ]
    },
    {
      "cell_type": "markdown",
      "metadata": {
        "id": "WxDzUQquOmdy"
      },
      "source": [
        "# Usar LDA para agrupar autores de tweets em tópicos\n",
        "\n",
        "---\n",
        "\n",
        "\n",
        "> **TODOS**:\n",
        "* Incrementar as stopwords para os tweets\n",
        "* Testar valores diferentes no plate notation\n",
        "* Implementar uma visualização gráfica"
      ]
    },
    {
      "cell_type": "code",
      "metadata": {
        "id": "xOXtNcRPA3h_",
        "outputId": "85e88ae9-2ba0-4087-a0b6-9b81432b8c7b",
        "colab": {
          "base_uri": "https://localhost:8080/",
          "height": 51
        }
      },
      "source": [
        "import pandas\n",
        "import numpy as np\n",
        "import altair\n",
        "import zipfile \n",
        "\n",
        "from sklearn.feature_extraction.text import CountVectorizer\n",
        "import nltk\n",
        "nltk.download('stopwords')\n",
        "from nltk.corpus import stopwords\n",
        "\n",
        "import re\n",
        "from time import time\n",
        "\n",
        "from google.colab import drive\n",
        "\n"
      ],
      "execution_count": null,
      "outputs": [
        {
          "output_type": "stream",
          "text": [
            "[nltk_data] Downloading package stopwords to /root/nltk_data...\n",
            "[nltk_data]   Unzipping corpora/stopwords.zip.\n"
          ],
          "name": "stdout"
        }
      ]
    },
    {
      "cell_type": "markdown",
      "metadata": {
        "id": "Q9yuqKyUatHW"
      },
      "source": [
        "Monta a pasta do drive com o zip dos tweets. Só precisa ser executado uma vez na criação do notebook."
      ]
    },
    {
      "cell_type": "code",
      "metadata": {
        "id": "z3-YcygkasJQ",
        "outputId": "8ec6e0ea-ecdc-42f2-c7b5-67d6015be1ed",
        "colab": {
          "base_uri": "https://localhost:8080/",
          "height": 34
        }
      },
      "source": [
        "drive.mount('/content/drive')\n",
        "\n",
        "zf = zipfile.ZipFile(\"/content/drive/My Drive/Colab Notebooks/tweets_parlamentares_new.zip\", 'r')\n",
        "tweets_csv = zf.extractall()"
      ],
      "execution_count": null,
      "outputs": [
        {
          "output_type": "stream",
          "text": [
            "Drive already mounted at /content/drive; to attempt to forcibly remount, call drive.mount(\"/content/drive\", force_remount=True).\n"
          ],
          "name": "stdout"
        }
      ]
    },
    {
      "cell_type": "code",
      "metadata": {
        "id": "0GOcyShyPVXp",
        "outputId": "a7181051-e5d9-4b69-d70c-03b0c07ef180",
        "colab": {
          "base_uri": "https://localhost:8080/",
          "height": 119
        }
      },
      "source": [
        "raw = pandas.read_csv('./tweets_parlamentares_new.csv', nrows=100000)\n",
        "\n",
        "tweets = raw\n",
        "\n",
        "print('Total de tweets: {0}'.format(tweets.shape[0]))\n",
        "print()\n",
        "print('Por parlamentar: ')\n",
        "print()\n",
        "tweets['nome_eleitoral'].value_counts()\n",
        "\n",
        "test = tweets.loc[tweets['nome_eleitoral'] == 'ALEXANDRE PADILHA']\n",
        "test['nome_eleitoral'].value_counts()"
      ],
      "execution_count": null,
      "outputs": [
        {
          "output_type": "stream",
          "text": [
            "Total de tweets: 100000\n",
            "\n",
            "Por parlamentar: \n",
            "\n"
          ],
          "name": "stdout"
        },
        {
          "output_type": "execute_result",
          "data": {
            "text/plain": [
              "ALEXANDRE PADILHA    5410\n",
              "Name: nome_eleitoral, dtype: int64"
            ]
          },
          "metadata": {
            "tags": []
          },
          "execution_count": 29
        }
      ]
    },
    {
      "cell_type": "markdown",
      "metadata": {
        "id": "CI1xC3X3UIpq"
      },
      "source": [
        "# Pre-processamento\n",
        "> Remover algumas stopwords"
      ]
    },
    {
      "cell_type": "code",
      "metadata": {
        "id": "tJkwhQLpUQoF",
        "outputId": "6192fea7-4010-498d-c4f9-c75f234ef615",
        "colab": {
          "base_uri": "https://localhost:8080/",
          "height": 547
        }
      },
      "source": [
        "# Remover stopwords em portugues\n",
        "stop_words = set(stopwords.words(\"portuguese\"))\n",
        "stop_words.update(['que', 'até', 'esse', \n",
        "                    'essa', 'pro', 'pra',\n",
        "                    'oi', 'lá', 'blá', 'bb', \n",
        "                    'bbm', 'abm', 'cbm', \n",
        "                    'dbm', 'dos', \n",
        "                    'ltda', 'editora', 'nan', 'https',\n",
        "                    '__twitter_impression', '__twitter_impression true', 'http', 'http bit'])\n",
        "\n",
        "clean_tweets = list()\n",
        "\n",
        "for w in range(len(test.text)):\n",
        "  tw = str(test['text'].iloc[w])\n",
        "\n",
        "  # remove special characters and digits\n",
        "  tw  = re.sub(\"(\\\\d|\\\\W)+|\\w*\\d\\w*\",\" \", tw )\n",
        "  tw = ' '.join(s for s in tw.split() if (not any(c.isdigit() for c in s)) and len(s) > 2)\n",
        "  clean_tweets.append(tw)\n",
        "\n",
        "clean_tweets[20:50]\n"
      ],
      "execution_count": null,
      "outputs": [
        {
          "output_type": "execute_result",
          "data": {
            "text/plain": [
              "['mortos casos confirmados Enquanto isso que Bolsonaro estava fazendo Sobrevoando helicoptero uma manifestação Brasília',\n",
              " 'dias sem ministro Saúde',\n",
              " 'Hoje dia mundial Sem Tabaco entrevista concedida quando era Ministro Saúde falo pouco sobre legado luta contra tabagismo Entrevista completa https www youtube com watch OlKzdotsCY',\n",
              " 'Depois que torcidas rivais estiveram juntas hoje todo Brasil lideranças políticas têm que amanhã baixarem suas bandeiras próprias erguerem juntos bandeirão pela DEMOCRACIA',\n",
              " 'Companheiros companheiras dos partidos progressistas vamos aproveitar que torcidas Corinthians Palmeiras uniram contra facismo nos unirmos vez Tenho certeza que concordam com isso FlavioDino Haddad_Fernando ManuelaDavila GuilhermeBoulos gleisi',\n",
              " 'taco baseball uma bandeira dos Estados Unidos encoberta pelos braços força ordem diz muito sobre onda conservadora que assola Brasil favor democracia sempre democracia fascismonuncamais',\n",
              " 'ato contra Bolsonaro manifestante arrastada detida ato pró democracia uma manifestante contrária ato portando uma branca escoltada por policial Dois pesos duas medidas',\n",
              " 'REPRESSÃO ATO PRÓ DEMOCRACIA ORGANIZADO POR TORCIDAS Polícia reprime violentamente manifestantes São Paulo democracia antifascistas',\n",
              " 'Isso ataque democracia Ser antifascista ser contra opressões que assolam humanidade Não devemos deixar que fascismo repita história',\n",
              " 'Não vamos chamar loucos aqueles que têm total entendimento que estão fazendo Não loucura que esse governo pratica sim projeto político conservador genocida',\n",
              " 'Gaviões resgatando sua origem ultrajano Defensora Democracia',\n",
              " 'menos duas semanas dois países diferentes dois casos que escancaram racismo genocídio população negra VidasNegrasImportam BlackLivesMatter',\n",
              " 'Profissionais direito gritam BASTA',\n",
              " 'Bolsonaro atrasa instalações mil UTIs compra mil respiradores contratação mil médicos para hospitais universitários Precisamos combater essa pandemia',\n",
              " 'que para comemorar ministra DamaresAlves dias sem ministro saúde mortos por covid',\n",
              " 'Quase mil mortos mais mil novos casos',\n",
              " 'dias sem ministro Saúde',\n",
              " 'coluna Brasil Fato falo meu projeto lei que visibilidade para registros pessoas suspeitas contaminação contaminadas hospitalizadas falecidas por Covid com marcador étnico racial',\n",
              " 'Extremamente grave situação das populações indígenas que estão abandonadas pelo governo genocida Bolsonaro http www noticiadosmunicipios com home noticia covid rompe barreiras entra terra indigena maraiwatsede pode virar Cdesgraca publica html',\n",
              " 'Ontem tivemos mortes diárias pelo corona virus Alguma coisa está incorreta sua conta osmarterra Novamente governo bolsonaro mostra totalmente irresponsável aos efeitos pandemia que assola mundo',\n",
              " 'querido companheiro SenadorRogerio infelizmente testou positivo para Desejo melhoras nosso amigo para que continue lutando lado povo brasileiro Força guerreiro',\n",
              " 'https congressoemfoco uol com saude mortes por covid quase dobram aprovacao ministerio saude despenca com interino profundo esvaziamento técnico ministério que gravíssimo porque ele sempre foi uma referência técnica independente governos para gestores municipais estaduais profissionais saúde ponta para sociedade como todo',\n",
              " 'Excelente coluna Haddad_Fernando',\n",
              " 'Parabéns governador',\n",
              " 'Sempre',\n",
              " 'Venhaaaa kkkk',\n",
              " 'Como que',\n",
              " 'Genocida esta reabertura',\n",
              " 'triste ver desabafo desesperado desta moça sua família Infelizmente cada vez mais gente experimentando pior forma gravidade Solidariedade rhayssalourenco ALERTA GERAL BRASIL',\n",
              " 'Com dados desta sexta Brasil passa Espanha número mortes por Covid Somos agora quinto país mortes decorrência coronavírus Sempre lembrando que Brasil dos países que menos testa']"
            ]
          },
          "metadata": {
            "tags": []
          },
          "execution_count": 30
        }
      ]
    },
    {
      "cell_type": "markdown",
      "metadata": {
        "id": "qveTXNVOVFDO"
      },
      "source": [
        "### LDA funciona baseado em frequências de palavras, então usaremos TFs, e não TF-IDFs para os textos dos tweets.\n",
        "\n",
        "* **max_df**: ignore terms that have a document frequency strictly higher than the given threshold (corpus-specific stop words). If float, the parameter represents a proportion of documents, integer absolute counts.\n",
        "\n",
        "* **min_df**: ignore terms that have a document frequency strictly lower than the given threshold. This value is also called cut-off in the literature. If float, the parameter represents a proportion of documents, integer absolute counts.\n",
        "\n",
        "Neste caso, tive resultados interessantes com mindf = 1, max_df = 0.4, max_features= 10000 e ngram_range(1,2)"
      ]
    },
    {
      "cell_type": "code",
      "metadata": {
        "id": "1NFnh7tmVJQ0",
        "outputId": "d2189eda-d8f0-44b4-f8e8-94f8234dcbb7",
        "colab": {
          "base_uri": "https://localhost:8080/",
          "height": 989
        }
      },
      "source": [
        "# Define o \"comportamento\" do vetorizador\n",
        "tf_vectorizer = CountVectorizer(\n",
        "    min_df = 10,\n",
        "    max_df = 0.8,\n",
        "    max_features = None,\n",
        "    stop_words = stop_words,\n",
        "    ngram_range=(1,2)\n",
        ")\n",
        "\n",
        "# Aplica o vectorizer para os textos dos tweets\n",
        "vec_text = tf_vectorizer.fit_transform(clean_tweets)\n",
        "\n",
        "# Lista de palavras\n",
        "words = tf_vectorizer.get_feature_names()\n",
        "\n",
        "# Formato do vetor:\n",
        "print(\"Formato do vetor: \", vec_text.shape)\n",
        "# Quantidade de palavras (features):\n",
        "print(\"Quantidade de features: \", len(words))\n",
        "# visualizar o vetor de features (palavras):\n",
        "print(\"Vetor de features: \\n\", vec_text[0:10])"
      ],
      "execution_count": null,
      "outputs": [
        {
          "output_type": "stream",
          "text": [
            "/usr/local/lib/python3.6/dist-packages/sklearn/feature_extraction/text.py:385: UserWarning: Your stop_words may be inconsistent with your preprocessing. Tokenizing the stop words generated tokens ['bit', 'true'] not in stop_words.\n",
            "  'stop_words.' % sorted(inconsistent))\n"
          ],
          "name": "stderr"
        },
        {
          "output_type": "stream",
          "text": [
            "Formato do vetor:  (5410, 1537)\n",
            "Quantidade de features:  1537\n",
            "Vetor de features: \n",
            "   (0, 885)\t1\n",
            "  (0, 318)\t3\n",
            "  (0, 1053)\t1\n",
            "  (0, 1090)\t1\n",
            "  (0, 1225)\t1\n",
            "  (0, 1455)\t1\n",
            "  (0, 91)\t1\n",
            "  (0, 1155)\t1\n",
            "  (0, 1517)\t1\n",
            "  (0, 995)\t1\n",
            "  (0, 1224)\t1\n",
            "  (1, 1061)\t1\n",
            "  (1, 668)\t1\n",
            "  (1, 294)\t1\n",
            "  (1, 1445)\t1\n",
            "  (1, 1307)\t1\n",
            "  (1, 1086)\t1\n",
            "  (1, 1433)\t1\n",
            "  (3, 630)\t1\n",
            "  (3, 1197)\t1\n",
            "  (3, 146)\t1\n",
            "  (3, 789)\t1\n",
            "  (3, 1491)\t1\n",
            "  (3, 731)\t1\n",
            "  (4, 1155)\t1\n",
            "  :\t:\n",
            "  (6, 116)\t1\n",
            "  (6, 1183)\t1\n",
            "  (6, 1194)\t1\n",
            "  (6, 353)\t1\n",
            "  (7, 318)\t1\n",
            "  (7, 886)\t1\n",
            "  (7, 214)\t1\n",
            "  (7, 1122)\t1\n",
            "  (7, 1239)\t1\n",
            "  (7, 963)\t1\n",
            "  (7, 1161)\t1\n",
            "  (7, 587)\t1\n",
            "  (7, 1124)\t1\n",
            "  (8, 1284)\t1\n",
            "  (8, 426)\t1\n",
            "  (8, 873)\t1\n",
            "  (8, 875)\t1\n",
            "  (9, 789)\t1\n",
            "  (9, 645)\t1\n",
            "  (9, 380)\t1\n",
            "  (9, 478)\t1\n",
            "  (9, 852)\t1\n",
            "  (9, 378)\t1\n",
            "  (9, 1027)\t1\n",
            "  (9, 407)\t1\n"
          ],
          "name": "stdout"
        }
      ]
    },
    {
      "cell_type": "code",
      "metadata": {
        "id": "ATVdDa9KDrJf",
        "outputId": "c28d5865-f671-4eed-febf-29f53ed981d7",
        "colab": {
          "base_uri": "https://localhost:8080/",
          "height": 187
        }
      },
      "source": [
        "words[0:10]"
      ],
      "execution_count": null,
      "outputs": [
        {
          "output_type": "execute_result",
          "data": {
            "text/plain": [
              "['aberta',\n",
              " 'aberto',\n",
              " 'abrahamweint',\n",
              " 'abraço',\n",
              " 'abril',\n",
              " 'absurda',\n",
              " 'absurdo',\n",
              " 'acaba',\n",
              " 'acabar',\n",
              " 'acabou']"
            ]
          },
          "metadata": {
            "tags": []
          },
          "execution_count": 32
        }
      ]
    },
    {
      "cell_type": "markdown",
      "metadata": {
        "id": "Hb9hlNrADv6d"
      },
      "source": [
        "## Encontrando tópicos\n",
        "\n",
        "O resultado terá \n",
        "\n",
        "*   uma matriz que descreve a relação entre palavras e tópicos\n",
        "*   uma matriz que descreve a relação entre documentos e tópicos\n",
        "\n",
        "Existe uma outra implementação de LDA popular em python chamada Gensim."
      ]
    },
    {
      "cell_type": "code",
      "metadata": {
        "id": "FZxKreqCD1e6"
      },
      "source": [
        "from sklearn.decomposition import LatentDirichletAllocation"
      ],
      "execution_count": null,
      "outputs": []
    },
    {
      "cell_type": "code",
      "metadata": {
        "id": "6Kid45Y-D2W4"
      },
      "source": [
        "# Utilitários de visualização de dados do Prof Nazareno\n",
        "def print_top_words(model, feature_names, n_top_words):\n",
        "\n",
        "    for topic_idx, topic in enumerate(model.components_):\n",
        "\n",
        "        print(\"\\n--\\nTopic #{}: \".format(topic_idx + 1))\n",
        "        message = \", \".join([feature_names[i]\n",
        "                              for i in topic.argsort()[:-n_top_words - 1:-1]])\n",
        "        print(message)\n",
        "\n",
        "    print()\n",
        "\n",
        "def display_topics(W, H, feature_names, documents, no_top_words, no_top_documents):\n",
        "\n",
        "    for topic_idx, topic in enumerate(H):\n",
        "\n",
        "        print(\"\\n--\\nTopic #{}: \".format(topic_idx + 1))\n",
        "        print(\", \".join([feature_names[i]\n",
        "                for i in topic.argsort()[:-no_top_words - 1:-1]]).upper())\n",
        "        \n",
        "        top_d_idx = np.argsort(W[:,topic_idx])[::-1][0:no_top_documents]\n",
        "        \n",
        "        for d in top_d_idx: \n",
        "          doc_data = tweets[['nome_eleitoral', 'status_url']].iloc[d]\n",
        "          print('{} - {} : \\t{:.2f}'.format(doc_data[1], doc_data[0], W[d, topic_idx]))"
      ],
      "execution_count": null,
      "outputs": []
    },
    {
      "cell_type": "markdown",
      "metadata": {
        "id": "hSiUep3jD93A"
      },
      "source": [
        "## **Agrupamento (Dúvidas)**\n",
        "\n",
        "### Atributos do Plate Notation:\n",
        "* **doc_topic_prior <float, optional (default=None)>**: \n",
        "Prior of document topic distribution theta\n",
        "\n",
        "* **topic_word_prior <float, optional (default=None)>**: Prior of topic word distribution beta\n"
      ]
    },
    {
      "cell_type": "code",
      "metadata": {
        "id": "-lJ1Hls0EFjR",
        "outputId": "9d77274e-8431-4988-a885-b3b5fe161d4f",
        "colab": {
          "base_uri": "https://localhost:8080/",
          "height": 34
        }
      },
      "source": [
        "lda = LatentDirichletAllocation(n_components=5, # número de tópicos\n",
        "                                # doc_topic_prior=5,\n",
        "                                # topic_word_prior=0.6, # Prior of topic word distribution beta\n",
        "                                learning_method='online', # 'online' equivale a minibatch no k-means\n",
        "                                random_state=0) # obter os mesmos resultados aleatórios\n",
        "\n",
        "t0 = time() \n",
        "\n",
        "lda.fit(vec_text) # Learn model from vectorized text\n",
        "\n",
        "doc_topic_matrix = lda.transform(vec_text) # Matriz de relação docs x topics\n",
        "\n",
        "print(\"done in %0.3fs.\" % (time() - t0))"
      ],
      "execution_count": null,
      "outputs": [
        {
          "output_type": "stream",
          "text": [
            "done in 7.432s.\n"
          ],
          "name": "stdout"
        }
      ]
    },
    {
      "cell_type": "code",
      "metadata": {
        "id": "nRhQaNf1EMC_",
        "outputId": "afef497f-4b79-417c-918a-abc1dbaf955e",
        "colab": {
          "base_uri": "https://localhost:8080/",
          "height": 51
        }
      },
      "source": [
        "print('Matriz documento-tópicos:' + str(doc_topic_matrix.shape))\n",
        "print('Matriz tópicos-termos:' + str(lda.components_.shape))"
      ],
      "execution_count": null,
      "outputs": [
        {
          "output_type": "stream",
          "text": [
            "Matriz documento-tópicos:(5410, 5)\n",
            "Matriz tópicos-termos:(5, 1537)\n"
          ],
          "name": "stdout"
        }
      ]
    },
    {
      "cell_type": "code",
      "metadata": {
        "id": "hmtS5aZZGn1I",
        "outputId": "61c3a673-7a1b-46b2-8e00-9dc791fcfba1",
        "colab": {
          "base_uri": "https://localhost:8080/",
          "height": 1000
        }
      },
      "source": [
        "# TODO: Tirar dúvida de como os tópicos estão sendo agrupados\n",
        "display_topics(doc_topic_matrix,\n",
        "               lda.components_, \n",
        "               words,\n",
        "               test,\n",
        "               15, \n",
        "               10)"
      ],
      "execution_count": null,
      "outputs": [
        {
          "output_type": "stream",
          "text": [
            "\n",
            "--\n",
            "Topic #1: \n",
            "PRESIDENTE, PESSOAS, DIA, ANOS, POVO, LULA, DIREITOS, MUNDO, BOLSONARO, MILHÕES, BIT, MULHERES, NUNCA, DESTRUIÇÃO, MANDATO\n",
            "https://twitter.com/adrianasounovo/status/1242186643148333059 - ADRIANA VENTURA : \t0.95\n",
            "https://twitter.com/adrianasounovo/status/1186713542428430341 - ADRIANA VENTURA : \t0.95\n",
            "https://twitter.com/adrianasounovo/status/1196056967111938048 - ADRIANA VENTURA : \t0.94\n",
            "https://twitter.com/adrianasounovo/status/1245836428057235457 - ADRIANA VENTURA : \t0.94\n",
            "https://twitter.com/adrianasounovo/status/1184133735773593601 - ADRIANA VENTURA : \t0.93\n",
            "https://twitter.com/adrianasounovo/status/1260947079976955905 - ADRIANA VENTURA : \t0.93\n",
            "https://twitter.com/AdrianoBaldy/status/1212841481154764803 - ADRIANO DO BALDY : \t0.93\n",
            "https://twitter.com/adrianasounovo/status/1242798623995441157 - ADRIANA VENTURA : \t0.92\n",
            "https://twitter.com/adrianasounovo/status/1093239887128678400 - ADRIANA VENTURA : \t0.92\n",
            "https://twitter.com/adrianasounovo/status/1263503460126818304 - ADRIANA VENTURA : \t0.91\n",
            "\n",
            "--\n",
            "Topic #2: \n",
            "SAÚDE, PÚBLICA, EDUCAÇÃO, CORONAVÍRUS, SUS, HOJE, TRABALHADORES, BOLSONARO, GOVERNO, PAULO, PANDEMIA, SOBRE, BRASIL, MINISTRO, SAÚDE PÚBLICA\n",
            "https://twitter.com/AcacioFavacho/status/1222684183660834816 - ACÁCIO FAVACHO : \t0.97\n",
            "https://twitter.com/adrianasounovo/status/1266142607702405123 - ADRIANA VENTURA : \t0.96\n",
            "https://twitter.com/AcacioFavacho/status/1138573844585832448 - ACÁCIO FAVACHO : \t0.96\n",
            "https://twitter.com/adrianasounovo/status/1106739997946843143 - ADRIANA VENTURA : \t0.95\n",
            "https://twitter.com/adrianasounovo/status/1177696917779730432 - ADRIANA VENTURA : \t0.95\n",
            "https://twitter.com/adrianasounovo/status/1258189067600216065 - ADRIANA VENTURA : \t0.95\n",
            "https://twitter.com/adrianasounovo/status/1177350297536126981 - ADRIANA VENTURA : \t0.95\n",
            "https://twitter.com/adrianasounovo/status/1257810585183571968 - ADRIANA VENTURA : \t0.95\n",
            "https://twitter.com/adrianasounovo/status/1149336614423977985 - ADRIANA VENTURA : \t0.95\n",
            "https://twitter.com/AdrianoBaldy/status/1225079101637177344 - ADRIANO DO BALDY : \t0.94\n",
            "\n",
            "--\n",
            "Topic #3: \n",
            "AGORA, BOLSONARO, ONDE, CONGRESSO, VAMOS, PAULO, CIDADE, GOLPE, DEMOCRACIA, INDÍGENAS, OUTRA, SEGUNDO, DUAS, DADOS, DEBATE\n",
            "https://twitter.com/adrianasounovo/status/1260706632545288192 - ADRIANA VENTURA : \t0.96\n",
            "https://twitter.com/AcacioFavacho/status/1084801291925315585 - ACÁCIO FAVACHO : \t0.96\n",
            "https://twitter.com/adrianasounovo/status/1266142606419001347 - ADRIANA VENTURA : \t0.96\n",
            "https://twitter.com/adrianasounovo/status/1227638547815059456 - ADRIANA VENTURA : \t0.95\n",
            "https://twitter.com/AcacioFavacho/status/1171169435937333249 - ACÁCIO FAVACHO : \t0.94\n",
            "https://twitter.com/AcacioFavacho/status/1130647515701882883 - ACÁCIO FAVACHO : \t0.93\n",
            "https://twitter.com/AcacioFavacho/status/1118308771279847424 - ACÁCIO FAVACHO : \t0.93\n",
            "https://twitter.com/adrianasounovo/status/1263923162024226818 - ADRIANA VENTURA : \t0.93\n",
            "https://twitter.com/AfonsoFlorence/status/1263453378442661890 - AFONSO FLORENCE : \t0.90\n",
            "https://twitter.com/AcacioFavacho/status/1141744407487614976 - ACÁCIO FAVACHO : \t0.90\n",
            "\n",
            "--\n",
            "Topic #4: \n",
            "BOLSONARO, VAI, GOVERNO, JAIRBOLSONARO, SER, CONTRA, BRASIL, QUER, MORO, SOBRE, DIREITO, TER, BEM, JUSTIÇA, PODE\n",
            "https://twitter.com/adrianasounovo/status/1260706631253401600 - ADRIANA VENTURA : \t0.96\n",
            "https://twitter.com/adrianasounovo/status/1258189065570136071 - ADRIANA VENTURA : \t0.95\n",
            "https://twitter.com/AcacioFavacho/status/1088835048747470848 - ACÁCIO FAVACHO : \t0.95\n",
            "https://twitter.com/adrianasounovo/status/1261318713497784321 - ADRIANA VENTURA : \t0.95\n",
            "https://twitter.com/adrianasounovo/status/1179475057329999873 - ADRIANA VENTURA : \t0.94\n",
            "https://twitter.com/depaguinaldo11/status/1186799475735646208 - AGUINALDO RIBEIRO : \t0.94\n",
            "https://twitter.com/adrianasounovo/status/1182053570591494144 - ADRIANA VENTURA : \t0.94\n",
            "https://twitter.com/adrianasounovo/status/1192126248094437377 - ADRIANA VENTURA : \t0.94\n",
            "https://twitter.com/FaleiroAirton/status/1162009759098331136 - AIRTON FALEIRO : \t0.93\n",
            "https://twitter.com/AfonsoFlorence/status/1159093836771155969 - AFONSO FLORENCE : \t0.93\n",
            "\n",
            "--\n",
            "Topic #5: \n",
            "MÉDICOS, BOLSONARO, AINDA, AMP, SOBRE, MEIO, VIDAS, AQUI, BRASIL, NACIONAL, SOCIEDADE, MIL, CAMARADEPUTADOS, DIZ, GOV\n",
            "https://twitter.com/adrianasounovo/status/1258739722412855297 - ADRIANA VENTURA : \t0.94\n",
            "https://twitter.com/AcacioFavacho/status/1250969045970681856 - ACÁCIO FAVACHO : \t0.94\n",
            "https://twitter.com/AcacioFavacho/status/1116491553965527040 - ACÁCIO FAVACHO : \t0.93\n",
            "https://twitter.com/adrianasounovo/status/1260340227664683008 - ADRIANA VENTURA : \t0.93\n",
            "https://twitter.com/adrianasounovo/status/1258416234833555456 - ADRIANA VENTURA : \t0.93\n",
            "https://twitter.com/adrianasounovo/status/1172541689422065670 - ADRIANA VENTURA : \t0.92\n",
            "https://twitter.com/AfonsoFlorence/status/1164231272652259328 - AFONSO FLORENCE : \t0.92\n",
            "https://twitter.com/adrianasounovo/status/1257810583124086784 - ADRIANA VENTURA : \t0.91\n",
            "https://twitter.com/adrianasounovo/status/1247678366951583744 - ADRIANA VENTURA : \t0.91\n",
            "https://twitter.com/AfonsoFlorence/status/1143559468141162498 - AFONSO FLORENCE : \t0.91\n"
          ],
          "name": "stdout"
        }
      ]
    }
  ]
}