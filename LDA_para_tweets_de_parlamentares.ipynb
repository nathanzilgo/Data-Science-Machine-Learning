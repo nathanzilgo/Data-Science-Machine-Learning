{
  "nbformat": 4,
  "nbformat_minor": 0,
  "metadata": {
    "colab": {
      "name": "LDA para tweets de parlamentares",
      "provenance": [],
      "collapsed_sections": [],
      "authorship_tag": "ABX9TyPOS9rmx2KwgshEg+6jHZPd",
      "include_colab_link": true
    },
    "kernelspec": {
      "name": "python3",
      "display_name": "Python 3"
    }
  },
  "cells": [
    {
      "cell_type": "markdown",
      "metadata": {
        "id": "view-in-github",
        "colab_type": "text"
      },
      "source": [
        "<a href=\"https://colab.research.google.com/github/nathanzilgo/Data-Science-Machine-Learning/blob/master/LDA_para_tweets_de_parlamentares.ipynb\" target=\"_parent\"><img src=\"https://colab.research.google.com/assets/colab-badge.svg\" alt=\"Open In Colab\"/></a>"
      ]
    },
    {
      "cell_type": "markdown",
      "metadata": {
        "id": "WxDzUQquOmdy"
      },
      "source": [
        "# Usar LDA para agrupar tweets de parlamentares em tópicos\n",
        "> **TODOS**:\n",
        "* Incrementar as stopwords para os tweets\n",
        "* Testar valores diferentes no plate notation\n",
        "* Implementar uma visualização gráfica"
      ]
    },
    {
      "cell_type": "code",
      "metadata": {
        "id": "xOXtNcRPA3h_",
        "outputId": "55574e01-f76d-4c69-ffaf-c1917126b7c8",
        "colab": {
          "base_uri": "https://localhost:8080/",
          "height": 51
        }
      },
      "source": [
        "import pandas\n",
        "import numpy as np\n",
        "import altair\n",
        "import zipfile \n",
        "\n",
        "from sklearn.feature_extraction.text import CountVectorizer\n",
        "import nltk\n",
        "nltk.download('stopwords')\n",
        "from nltk.corpus import stopwords\n",
        "\n",
        "import re\n",
        "from time import time\n",
        "\n",
        "from google.colab import drive\n",
        "\n"
      ],
      "execution_count": 63,
      "outputs": [
        {
          "output_type": "stream",
          "text": [
            "[nltk_data] Downloading package stopwords to /root/nltk_data...\n",
            "[nltk_data]   Package stopwords is already up-to-date!\n"
          ],
          "name": "stdout"
        }
      ]
    },
    {
      "cell_type": "code",
      "metadata": {
        "id": "0GOcyShyPVXp",
        "outputId": "9cb1bdc8-c0b4-4de8-cc40-a92e2c73c1b8",
        "colab": {
          "base_uri": "https://localhost:8080/",
          "height": 306
        }
      },
      "source": [
        "drive.mount('/content/drive')\n",
        "\n",
        "zf = zipfile.ZipFile(\"/content/drive/My Drive/Colab Notebooks/tweets_parlamentares_new.zip\", 'r')\n",
        "\n",
        "raw = pandas.read_csv(\"./tweets_parlamentares_new.csv\", nrows=100000)\n",
        "zf.close()\n",
        "\n",
        "tweets = raw\n",
        "\n",
        "print('Total de tweets: {0}'.format(tweets.shape[0]))\n",
        "print()\n",
        "print('Por parlamentar: ')\n",
        "print()\n",
        "tweets['nome_eleitoral'].value_counts()"
      ],
      "execution_count": 35,
      "outputs": [
        {
          "output_type": "stream",
          "text": [
            "Drive already mounted at /content/drive; to attempt to forcibly remount, call drive.mount(\"/content/drive\", force_remount=True).\n",
            "Total de tweets: 100000\n",
            "\n",
            "Por parlamentar: \n",
            "\n"
          ],
          "name": "stdout"
        },
        {
          "output_type": "execute_result",
          "data": {
            "text/plain": [
              "BACELAR                      8478\n",
              "DANIEL COELHO                6204\n",
              "BOHN GASS                    5929\n",
              "ALEXANDRE PADILHA            5410\n",
              "CORONEL TADEU                4360\n",
              "                             ... \n",
              "AMARO NETO                      9\n",
              "ALEX SANTANA                    7\n",
              "ANDRÉ FERREIRA                  6\n",
              "CHRISTIANE DE SOUZA YARED       4\n",
              "ÁTILA LIRA                      1\n",
              "Name: nome_eleitoral, Length: 79, dtype: int64"
            ]
          },
          "metadata": {
            "tags": []
          },
          "execution_count": 35
        }
      ]
    },
    {
      "cell_type": "markdown",
      "metadata": {
        "id": "CI1xC3X3UIpq"
      },
      "source": [
        "# Pre-processamento\n",
        "> Remover algumas stopwords"
      ]
    },
    {
      "cell_type": "code",
      "metadata": {
        "id": "tJkwhQLpUQoF",
        "outputId": "ba634ff4-ca2b-420f-c9b3-532c36f7f97c",
        "colab": {
          "base_uri": "https://localhost:8080/",
          "height": 547
        }
      },
      "source": [
        "# Remover stopwords em portugues\n",
        "stop_words = set(stopwords.words(\"portuguese\"))\n",
        "stop_words.update(['que', 'até', 'esse', \n",
        "                    'essa', 'pro', 'pra',\n",
        "                    'oi', 'lá', 'blá', 'bb', \n",
        "                    'bbm', 'abm', 'cbm', \n",
        "                    'dbm', 'dos', \n",
        "                    'ltda', 'editora', 'nan', 'https'])\n",
        "\n",
        "clean_tweets = list()\n",
        "\n",
        "for w in range(len(tweets.text)):\n",
        "  tw = str(tweets['text'].iloc[w])\n",
        "\n",
        "  # remove special characters and digits\n",
        "  tw  = re.sub(\"(\\\\d|\\\\W)+|\\w*\\d\\w*\",\" \", tw )\n",
        "  tw = ' '.join(s for s in tw.split() if (not any(c.isdigit() for c in s)) and len(s) > 2)\n",
        "  clean_tweets.append(tw)\n",
        "\n",
        "clean_tweets[20:50]\n"
      ],
      "execution_count": 41,
      "outputs": [
        {
          "output_type": "execute_result",
          "data": {
            "text/plain": [
              "['nan',\n",
              " 'https www facebook com AcacioFavacho posts',\n",
              " 'sessão Congresso Nacional votando vetos presidenciais deliberando junto com parlamentares sobre PLN que autoriza Executivo contratar operação crédito suplementar valor total bilhões',\n",
              " 'Recebendo Prefeito Clécio Luiz para tratarmos sobre emendas para nossa querida capital Macapá',\n",
              " 'votação que versa sobre Políticas Sociais Ambientais porém esse novo texto traz inseguranças políticas não consegue assegurar suas implementações por isso PROS vota NÃO pela obstrução dessa matéria pela manutenção texto original Código Ambiental',\n",
              " 'dia iniciou com muito trabalho Reunião com Presidente Jair Bolsonaro ministro Onyx Lorenzoni bancada PROS',\n",
              " 'Nossos primeiros dias mandato Obrigado Estado Amapá Foram dias muitas ações Participamos mais frentes parlamentares votações plenário emendas reuniões proposituras projetos lei onde deles propõe isenção IPI',\n",
              " 'Nossos primeiros dias Obrigado meu Amapá',\n",
              " 'reunião com bancada PROS qual junto com colegas deputados senadores partido foi discutido conjuntura política plano econômico para geração emprego país Reforma Previdência https www facebook com posts',\n",
              " 'Protocolando nosso primeiro Projeto Lei Comissão Defesa Consumidor aqui Câmara dos Deputados que trata sobre planos saúde sua suspensão rescisão unilateral dos contratos https www facebook com posts',\n",
              " 'Reunião Alinhamento Força Tarefa que será instituto pelo Governo Federal para definir prazo condutas quanto Regularização Terras Amapá aqui INCRA com presença Bancada Estadual https www facebook com posts',\n",
              " 'debate ampliação malha aérea estado foi pauta reunião hoje aqui Brasília com presença presidente ABEAR Eduardo Sanovicz presidente Senado Davi Alcolumbre Governador https www facebook com posts',\n",
              " 'Esta manhã estivemos presente solenidade entrega milhões Sistema Único saúde SUS pelo presidente Senado Davi Alcolumbre para municípios amapaenses Estamos todos orgulhosos com https www facebook com posts',\n",
              " 'Grupo Parlamentar Amizade Brasil França Nossa meta avançar cooperação transfronteiriça que uma particularidade nossa relação uma vez que França único país europeu compartilhar mais https www facebook com posts',\n",
              " 'Recebi prefeitos Carlos Sampaio Amapá Belize Ramos Pracuuba Professor Amanajás Cutias pauta apoio liberação recursos provenientes emendas dos anos Coloquei inteira https www facebook com posts',\n",
              " 'Conforme Art Regimento Interno Câmara dos Deputados deputados que integram CDC têm atribuição zelar pela economia popular repressão abuso poder econômico relações https www facebook com deputadofederalacaciofavacho videos',\n",
              " 'Conforme Art Regimento Interno Câmara dos Deputados deputados que integram CDC têm atribuição zelar pela economia popular repressão abuso poder econômico relações',\n",
              " 'https www instagram com utm_source ig_web_copy_link https www facebook com posts',\n",
              " 'Feliz fazer parte Comissão Defesa Consumidor instalada hoje Câmara dos Deputados Essa uma das bandeiras que defendo desde início meu mandato como vereador nos três mandatos https www facebook com posts',\n",
              " 'frente parlamentar deputados vários partidos unem para debater apresentar medidas sobre determinado tema interesse sociedade Considerado grande articulador deputado Acácio Favacho foi https www facebook com posts',\n",
              " 'encontro produtivo manhã desta quinta feira Reunião Bancada Federal presidente Senado Davi Alcolumbre com Governador Waldez Góes Entre assuntos prioridades para desenvolvimento social econômico Estado Amapá',\n",
              " 'final tarde desta quarta feira estivemos audiência com Presidente Senado Federal Senador Davi Alcolumbre acompanhado Presidente Associação Nacional dos Membros Ministério Público https www facebook com posts',\n",
              " 'Agenda tarde desta quarta feira nosso assunto foi Segurança Pública Mais uma das prioridades nosso mantado deputado federal bate papo foi com tenente coronel Polícia Militar https www facebook com posts',\n",
              " 'Agenda Uma semana voltada para Educação uma das minhas principais bandeiras para quatro anos meu mandato Nesta terça feira recebi meu gabinete secretária Educação Estado Amapá Goreth https www facebook com posts',\n",
              " 'Agenda dia produtivo Recebemos nosso gabinete Reitor Universidade Federal Amapá UNIFAP Prof Júlio César Oliveira depois bate papo marcamos outros encontros trabalho para https www facebook com posts',\n",
              " 'Encontro bancada PROS com Rodrigo Maia presidente câmara dos deputados Residência Oficial Câmara dos Deputados https www facebook com posts',\n",
              " 'Primeira reunião com bancada federal Estado Amapá para tratarmos assuntos como aeroporto CPIs comissões emendas investimentos principais projetos para ano DeputadoFederal AcacioFavacho Brasília Brasil https www facebook com posts',\n",
              " 'Acácio Favacho empossado deputado federal pelo Amapá posse aconteceu sessão Plenário Ulysses Guimarães nesta sexta feira fevereiro Acácio Favacho PROS foi eleito com https www facebook com posts',\n",
              " 'Mais pleito mais uma Vitória conquistada dos meus últimos atos como vereador Câmara Macapá eleição presidente mesa ruzivanpontes Sempre nunca Sorte',\n",
              " 'posted new video Facebook']"
            ]
          },
          "metadata": {
            "tags": []
          },
          "execution_count": 41
        }
      ]
    },
    {
      "cell_type": "markdown",
      "metadata": {
        "id": "qveTXNVOVFDO"
      },
      "source": [
        "### LDA funciona baseado em frequências de palavras, então usaremos TFs, e não TF-IDFs para os textos dos tweets.\n",
        "\n",
        "* **max_df**: ignore terms that have a document frequency strictly higher than the given threshold (corpus-specific stop words). If float, the parameter represents a proportion of documents, integer absolute counts.\n",
        "\n",
        "* **min_df**: ignore terms that have a document frequency strictly lower than the given threshold. This value is also called cut-off in the literature. If float, the parameter represents a proportion of documents, integer absolute counts.\n",
        "\n",
        "Neste caso, tive resultados interessantes com mindf = 1, max_df = 0.4, max_features= 10000 e ngram_range(1,2)"
      ]
    },
    {
      "cell_type": "code",
      "metadata": {
        "id": "1NFnh7tmVJQ0",
        "outputId": "0af05fde-2f69-4f12-8fac-ea69d3e65dc9",
        "colab": {
          "base_uri": "https://localhost:8080/",
          "height": 935
        }
      },
      "source": [
        "# Define o \"comportamento\" do vetorizador\n",
        "tf_vectorizer = CountVectorizer(\n",
        "    min_df = 1,\n",
        "    max_df = 0.4,\n",
        "    max_features = 10000,\n",
        "    stop_words = stop_words,\n",
        "    ngram_range=(1,2)\n",
        ")\n",
        "\n",
        "# Aplica o vectorizer para os textos dos tweets\n",
        "vec_text = tf_vectorizer.fit_transform(clean_tweets)\n",
        "\n",
        "# Lista de palavras\n",
        "words = tf_vectorizer.get_feature_names()\n",
        "\n",
        "# Formato do vetor:\n",
        "print(\"Formato do vetor: \", vec_text.shape)\n",
        "# Quantidade de palavras (features):\n",
        "print(\"Quantidade de features: \", len(words))\n",
        "# visualizar o vetor de features (palavras):\n",
        "print(\"Vetor de features: \\n\", vec_text[0:10])"
      ],
      "execution_count": 52,
      "outputs": [
        {
          "output_type": "stream",
          "text": [
            "Formato do vetor:  (100000, 10000)\n",
            "Quantidade de features:  10000\n",
            "Vetor de features: \n",
            "   (0, 948)\t1\n",
            "  (0, 3427)\t1\n",
            "  (0, 6089)\t1\n",
            "  (0, 621)\t1\n",
            "  (0, 1437)\t1\n",
            "  (0, 9218)\t1\n",
            "  (0, 8377)\t1\n",
            "  (0, 9212)\t1\n",
            "  (0, 736)\t1\n",
            "  (0, 2494)\t1\n",
            "  (0, 3680)\t1\n",
            "  (0, 655)\t1\n",
            "  (0, 237)\t1\n",
            "  (0, 2535)\t1\n",
            "  (0, 2806)\t1\n",
            "  (0, 949)\t1\n",
            "  (0, 9222)\t1\n",
            "  (0, 737)\t1\n",
            "  (0, 241)\t1\n",
            "  (0, 2539)\t1\n",
            "  (1, 948)\t1\n",
            "  (1, 3427)\t1\n",
            "  (1, 6089)\t1\n",
            "  (1, 621)\t1\n",
            "  (1, 1437)\t1\n",
            "  :\t:\n",
            "  (7, 9288)\t1\n",
            "  (7, 8753)\t1\n",
            "  (7, 6566)\t1\n",
            "  (7, 5334)\t1\n",
            "  (7, 7578)\t1\n",
            "  (7, 6183)\t1\n",
            "  (7, 1290)\t1\n",
            "  (7, 8272)\t1\n",
            "  (7, 94)\t1\n",
            "  (7, 1286)\t1\n",
            "  (7, 6582)\t1\n",
            "  (7, 9850)\t1\n",
            "  (7, 3011)\t1\n",
            "  (7, 7546)\t1\n",
            "  (7, 426)\t1\n",
            "  (7, 8667)\t1\n",
            "  (7, 7581)\t1\n",
            "  (8, 3011)\t1\n",
            "  (8, 6282)\t1\n",
            "  (8, 1346)\t1\n",
            "  (8, 467)\t1\n",
            "  (8, 2852)\t1\n",
            "  (8, 7477)\t1\n",
            "  (8, 2854)\t1\n",
            "  (8, 7479)\t1\n"
          ],
          "name": "stdout"
        }
      ]
    },
    {
      "cell_type": "code",
      "metadata": {
        "id": "ATVdDa9KDrJf",
        "outputId": "b2b1c4a4-75f7-429d-a8c2-950bac8b88d7",
        "colab": {
          "base_uri": "https://localhost:8080/",
          "height": 187
        }
      },
      "source": [
        "words[0:10]"
      ],
      "execution_count": 53,
      "outputs": [
        {
          "output_type": "execute_result",
          "data": {
            "text/plain": [
              "['__twitter_impression',\n",
              " '__twitter_impression true',\n",
              " '_rodrigoneves_',\n",
              " 'abaixo',\n",
              " 'abaixo assinado',\n",
              " 'abandona',\n",
              " 'abandonada',\n",
              " 'abandonar',\n",
              " 'abandono',\n",
              " 'abastecimento']"
            ]
          },
          "metadata": {
            "tags": []
          },
          "execution_count": 53
        }
      ]
    },
    {
      "cell_type": "markdown",
      "metadata": {
        "id": "Hb9hlNrADv6d"
      },
      "source": [
        "## Encontrando tópicos\n",
        "\n",
        "O resultado terá \n",
        "\n",
        "*   uma matriz que descreve a relação entre palavras e tópicos\n",
        "*   uma matriz que descreve a relação entre documentos e tópicos\n",
        "\n",
        "Existe uma outra implementação de LDA popular em python chamada Gensim."
      ]
    },
    {
      "cell_type": "code",
      "metadata": {
        "id": "FZxKreqCD1e6"
      },
      "source": [
        "from sklearn.decomposition import LatentDirichletAllocation"
      ],
      "execution_count": 54,
      "outputs": []
    },
    {
      "cell_type": "code",
      "metadata": {
        "id": "6Kid45Y-D2W4"
      },
      "source": [
        "# Utilitários de visualização de dados do Prof Nazareno\n",
        "def print_top_words(model, feature_names, n_top_words):\n",
        "\n",
        "    for topic_idx, topic in enumerate(model.components_):\n",
        "\n",
        "        print(\"\\n--\\nTopic #{}: \".format(topic_idx + 1))\n",
        "        message = \", \".join([feature_names[i]\n",
        "                              for i in topic.argsort()[:-n_top_words - 1:-1]])\n",
        "        print(message)\n",
        "\n",
        "    print()\n",
        "\n",
        "def display_topics(W, H, feature_names, documents, no_top_words, no_top_documents):\n",
        "\n",
        "    for topic_idx, topic in enumerate(H):\n",
        "\n",
        "        print(\"\\n--\\nTopic #{}: \".format(topic_idx + 1))\n",
        "        print(\", \".join([feature_names[i]\n",
        "                for i in topic.argsort()[:-no_top_words - 1:-1]]).upper())\n",
        "        \n",
        "        top_d_idx = np.argsort(W[:,topic_idx])[::-1][0:no_top_documents]\n",
        "        \n",
        "        for d in top_d_idx: \n",
        "          doc_data = tweets[['nome_eleitoral', 'status_url']].iloc[d]\n",
        "          print('{} - {} : \\t{:.2f}'.format(doc_data[1], doc_data[0], W[d, topic_idx]))"
      ],
      "execution_count": 67,
      "outputs": []
    },
    {
      "cell_type": "markdown",
      "metadata": {
        "id": "hSiUep3jD93A"
      },
      "source": [
        "## **Agrupamento (Dúvidas)**\n",
        "\n",
        "### Atributos do Plate Notation:\n",
        "* **doc_topic_prior <float, optional (default=None)>**: \n",
        "Prior of document topic distribution theta\n",
        "\n",
        "* **topic_word_prior <float, optional (default=None)>**: Prior of topic word distribution beta\n"
      ]
    },
    {
      "cell_type": "code",
      "metadata": {
        "id": "-lJ1Hls0EFjR",
        "outputId": "be7e76d8-4831-4e23-915b-7a74d2deee48",
        "colab": {
          "base_uri": "https://localhost:8080/",
          "height": 34
        }
      },
      "source": [
        "lda = LatentDirichletAllocation(n_components=5, # número de tópicos\n",
        "                                # doc_topic_prior=5,\n",
        "                                # topic_word_prior=0.6, # Prior of topic word distribution beta\n",
        "                                learning_method='online', # 'online' equivale a minibatch no k-means\n",
        "                                random_state=0) # obter os mesmos resultados aleatórios\n",
        "\n",
        "t0 = time() \n",
        "\n",
        "lda.fit(vec_text) # Learn model from vectorized text\n",
        "\n",
        "doc_topic_matrix = lda.transform(vec_text) # Matriz de relação docs x topics\n",
        "\n",
        "print(\"done in %0.3fs.\" % (time() - t0))"
      ],
      "execution_count": 57,
      "outputs": [
        {
          "output_type": "stream",
          "text": [
            "done in 200.351s.\n"
          ],
          "name": "stdout"
        }
      ]
    },
    {
      "cell_type": "code",
      "metadata": {
        "id": "nRhQaNf1EMC_",
        "outputId": "f5cc08aa-2856-4786-b3fd-e5b33f035944",
        "colab": {
          "base_uri": "https://localhost:8080/",
          "height": 51
        }
      },
      "source": [
        "print('Matriz documento-tópicos:' + str(doc_topic_matrix.shape))\n",
        "print('Matriz tópicos-termos:' + str(lda.components_.shape))"
      ],
      "execution_count": 58,
      "outputs": [
        {
          "output_type": "stream",
          "text": [
            "Matriz documento-tópicos:(100000, 5)\n",
            "Matriz tópicos-termos:(5, 10000)\n"
          ],
          "name": "stdout"
        }
      ]
    },
    {
      "cell_type": "code",
      "metadata": {
        "id": "hmtS5aZZGn1I",
        "outputId": "59ea9adc-09b8-4df4-f643-f36f8da5e418",
        "colab": {
          "base_uri": "https://localhost:8080/",
          "height": 1000
        }
      },
      "source": [
        "# TODO: Tirar dúvida de como os tópicos estão sendo agrupados\n",
        "display_topics(doc_topic_matrix,\n",
        "               lda.components_, \n",
        "               words,\n",
        "               tweets,\n",
        "               15, \n",
        "               10)"
      ],
      "execution_count": 68,
      "outputs": [
        {
          "output_type": "stream",
          "text": [
            "\n",
            "--\n",
            "Topic #1: \n",
            "SOBRE, CÂMARA, DIA, HOJE, WWW, BOM, DEPUTADOS, COMISSÃO, FEIRA, REUNIÃO, DEBATE, HTTP, DEPUTADO, PROJETO, NESTA\n",
            "https://twitter.com/AcacioFavacho/status/1096031668400521222 - ACÁCIO FAVACHO : \t0.97\n",
            "https://twitter.com/ArnaldoJardim/status/1207096766669217792 - ARNALDO JARDIM : \t0.97\n",
            "https://twitter.com/ArnaldoJardim/status/1190329202891010048 - ARNALDO JARDIM : \t0.97\n",
            "https://twitter.com/ArnaldoJardim/status/1184454903361687552 - ARNALDO JARDIM : \t0.97\n",
            "https://twitter.com/ArnaldoJardim/status/1184937238918057999 - ARNALDO JARDIM : \t0.96\n",
            "https://twitter.com/CarlosZarattini/status/1259817885578539008 - CARLOS ZARATTINI : \t0.96\n",
            "https://twitter.com/ArnaldoJardim/status/1185626316663611393 - ARNALDO JARDIM : \t0.96\n",
            "https://twitter.com/christinoaureo/status/1229756343910830087 - CHRISTINO AUREO : \t0.96\n",
            "https://twitter.com/depaguinaldo11/status/1217539198095437825 - AGUINALDO RIBEIRO : \t0.96\n",
            "https://twitter.com/depaguinaldo11/status/1166410244504936448 - AGUINALDO RIBEIRO : \t0.96\n",
            "\n",
            "--\n",
            "Topic #2: \n",
            "CONTRA, SER, EDUCAÇÃO, VAMOS, PODE, BRASIL, LUTA, PAÍS, LULA, DEFESA, DEMOCRACIA, FAZ, TER, FRENTE, TODO\n",
            "https://twitter.com/adrianasounovo/status/1179799116655841286 - ADRIANA VENTURA : \t0.97\n",
            "https://twitter.com/adrianasounovo/status/1262473044074921984 - ADRIANA VENTURA : \t0.97\n",
            "https://twitter.com/adrianasounovo/status/1179858785189404673 - ADRIANA VENTURA : \t0.96\n",
            "https://twitter.com/adrianasounovo/status/1260299326632443904 - ADRIANA VENTURA : \t0.96\n",
            "https://twitter.com/adrianasounovo/status/1253696782749650944 - ADRIANA VENTURA : \t0.96\n",
            "https://twitter.com/adrianasounovo/status/1164206783033991168 - ADRIANA VENTURA : \t0.96\n",
            "https://twitter.com/adrianasounovo/status/1164210436813856768 - ADRIANA VENTURA : \t0.96\n",
            "https://twitter.com/adrianasounovo/status/1266142607702405123 - ADRIANA VENTURA : \t0.96\n",
            "https://twitter.com/CarlosBezerraJr/status/1260187514352140289 - CARLOS BEZERRA : \t0.95\n",
            "https://twitter.com/CarlosBezerraJr/status/1261275996914946050 - CARLOS BEZERRA : \t0.95\n",
            "\n",
            "--\n",
            "Topic #3: \n",
            "BRASIL, SAÚDE, AINDA, GOVERNO, POVO, CORONAVÍRUS, DIREITOS, MOMENTO, VIDA, HISTÓRIA, PANDEMIA, PARABÉNS, TODOS, MEIO, PESSOAS\n",
            "https://twitter.com/adrianasounovo/status/1255605243666214914 - ADRIANA VENTURA : \t0.97\n",
            "https://twitter.com/adrianasounovo/status/1255605245813698562 - ADRIANA VENTURA : \t0.97\n",
            "https://twitter.com/FaleiroAirton/status/1184090294586957824 - AIRTON FALEIRO : \t0.96\n",
            "https://twitter.com/AfonsoFlorence/status/1184090323204620293 - AFONSO FLORENCE : \t0.96\n",
            "https://twitter.com/boscosaraiva/status/1240655086008905729 - BOSCO SARAIVA : \t0.95\n",
            "https://twitter.com/aureacarolinax/status/1108144906340581377 - ÁUREA CAROLINA : \t0.95\n",
            "https://twitter.com/aureacarolinax/status/1108143452661927937 - ÁUREA CAROLINA : \t0.95\n",
            "https://twitter.com/aureacarolinax/status/1108145691774382080 - ÁUREA CAROLINA : \t0.95\n",
            "https://twitter.com/adrianasounovo/status/1245325483127996417 - ADRIANA VENTURA : \t0.95\n",
            "https://twitter.com/aureacarolinax/status/1108145451730198528 - ÁUREA CAROLINA : \t0.95\n",
            "\n",
            "--\n",
            "Topic #4: \n",
            "BOLSONARO, BRASIL, PRESIDENTE, GOVERNO, INSTAGRAM, QUER, WWW INSTAGRAM, IGSHID, HOJE, WWW, GOVERNO BOLSONARO, FAMÍLIA, DIA, ANOS, INSTAGRAM IGSHID\n",
            "https://twitter.com/BohnGass/status/1130993443323502592 - BOHN GASS : \t0.96\n",
            "https://twitter.com/Alice_Portugal/status/1101617221586046976 - ALICE PORTUGAL : \t0.96\n",
            "https://twitter.com/AlineSleutjes/status/1202732692997124101 - ALINE SLEUTJES : \t0.96\n",
            "https://twitter.com/alielmachado/status/1181267830848851969 - ALIEL MACHADO : \t0.95\n",
            "https://twitter.com/AlencarBraga13/status/1263537389668098053 - ALENCAR SANTANA BRAGA : \t0.95\n",
            "https://twitter.com/carlosgomesdep/status/1114541794740432896 - CARLOS GOMES : \t0.95\n",
            "https://twitter.com/Cassio_4011/status/1119291714462801920 - CÁSSIO ANDRADE : \t0.95\n",
            "https://twitter.com/DeputadoBacelar/status/1246753332322013184 - BACELAR : \t0.95\n",
            "https://twitter.com/Cassio_4011/status/1096546664091774976 - CÁSSIO ANDRADE : \t0.94\n",
            "https://twitter.com/Alice_Portugal/status/1101565400293298176 - ALICE PORTUGAL : \t0.94\n",
            "\n",
            "--\n",
            "Topic #5: \n",
            "VAI, BOLSONARO, REFORMA, PREVIDÊNCIA, MINISTRO, MORO, DIZ, TUDO, REFORMA PREVIDÊNCIA, MILHÕES, APOIO, POPULAÇÃO, SER, RIO, LULA\n",
            "https://twitter.com/AlencarBraga13/status/1149037932881358850 - ALENCAR SANTANA BRAGA : \t0.97\n",
            "https://twitter.com/Alice_Portugal/status/1148949347377307648 - ALICE PORTUGAL : \t0.97\n",
            "https://twitter.com/FaleiroAirton/status/1149385365243027456 - AIRTON FALEIRO : \t0.97\n",
            "https://twitter.com/AfonsoFlorence/status/1149306763470168066 - AFONSO FLORENCE : \t0.97\n",
            "https://twitter.com/DeputadoBacelar/status/1258740223925764096 - BACELAR : \t0.97\n",
            "https://twitter.com/assis_carvalho/status/1146078525868449793 - ASSIS CARVALHO : \t0.96\n",
            "https://twitter.com/padilhando/status/1185540828229443585 - ALEXANDRE PADILHA : \t0.96\n",
            "https://twitter.com/BohnGass/status/1118227225797697537 - BOHN GASS : \t0.95\n",
            "https://twitter.com/BohnGass/status/1109175469180706817 - BOHN GASS : \t0.95\n",
            "https://twitter.com/BohnGass/status/1159561696136114182 - BOHN GASS : \t0.95\n"
          ],
          "name": "stdout"
        }
      ]
    }
  ]
}